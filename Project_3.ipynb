{
  "nbformat": 4,
  "nbformat_minor": 0,
  "metadata": {
    "kernelspec": {
      "display_name": "TensorFlow 2.3 on Python 3.6 (CUDA 10.1)",
      "language": "python",
      "name": "python3"
    },
    "language_info": {
      "codemirror_mode": {
        "name": "ipython",
        "version": 3
      },
      "file_extension": ".py",
      "mimetype": "text/x-python",
      "name": "python",
      "nbconvert_exporter": "python",
      "pygments_lexer": "ipython3",
      "version": "3.6.9"
    },
    "colab": {
      "name": "Project 3.ipynb",
      "provenance": [],
      "collapsed_sections": []
    }
  },
  "cells": [
    {
      "cell_type": "markdown",
      "metadata": {
        "id": "KD5z-7dHAoCx"
      },
      "source": [
        "Project 3 \n",
        "\n",
        "Austin Brooks\n",
        "\n",
        "DAWI 4/2/2021"
      ]
    },
    {
      "cell_type": "code",
      "metadata": {
        "id": "5KnEcix4AqJU"
      },
      "source": [
        "import numpy as np\n",
        "import matplotlib.pyplot as plt"
      ],
      "execution_count": null,
      "outputs": []
    },
    {
      "cell_type": "code",
      "metadata": {
        "id": "H223PBdMqO8Y"
      },
      "source": [
        "from sklearn.datasets import load_breast_cancer\n",
        "from sklearn.model_selection import train_test_split\n",
        "from sklearn.preprocessing import StandardScaler"
      ],
      "execution_count": null,
      "outputs": []
    },
    {
      "cell_type": "markdown",
      "metadata": {
        "id": "hBipCPISQULH"
      },
      "source": [
        "Training the Breast-Cancer dataset\n",
        "\n",
        "--  I found more documentation on the diabetes dataset, with data and feature visualization information. \n",
        "\n",
        "https://scikit-learn.org/stable/modules/generated/sklearn.datasets.load_breast_cancer.html\n",
        "\n",
        "Here is an example of the diabetes sk dataset I attempted to use as well including many data visualization examples\n",
        "\n",
        "https://scikit-learn.org/stable/modules/generated/sklearn.datasets.load_diabetes.html"
      ]
    },
    {
      "cell_type": "code",
      "metadata": {
        "id": "YtUJn4qoBCbV"
      },
      "source": [
        "cancer = load_breast_cancer() # This can be changed to your own data\n",
        "x = cancer.data\n",
        "y = cancer.target\n",
        "x_train_all, x_test, y_train_all, y_test = train_test_split(x, y, stratify=y, \n",
        "                                                            test_size=0.2, random_state=42)\n",
        "x_train, x_val, y_train, y_val = train_test_split(x_train_all, y_train_all, stratify=y_train_all, \n",
        "                                                  test_size=0.2, random_state=42)\n"
      ],
      "execution_count": null,
      "outputs": []
    },
    {
      "cell_type": "markdown",
      "metadata": {
        "id": "0RrRvNffRIQO"
      },
      "source": [
        "x train shape values"
      ]
    },
    {
      "cell_type": "code",
      "metadata": {
        "colab": {
          "base_uri": "https://localhost:8080/"
        },
        "id": "TW3Lq7JrIQLQ",
        "outputId": "8039ab29-87c0-48dc-de34-1b7f3d9209e0"
      },
      "source": [
        "print(x_train.shape, x_val.shape)"
      ],
      "execution_count": null,
      "outputs": [
        {
          "output_type": "stream",
          "text": [
            "(364, 30) (91, 30)\n"
          ],
          "name": "stdout"
        }
      ]
    },
    {
      "cell_type": "code",
      "metadata": {
        "colab": {
          "base_uri": "https://localhost:8080/"
        },
        "id": "kF5WOAr4IUnO",
        "outputId": "af30aa60-ea19-4e66-a5ac-39753e5b1c3b"
      },
      "source": [
        "print(x_train.shape, x_test.shape)"
      ],
      "execution_count": null,
      "outputs": [
        {
          "output_type": "stream",
          "text": [
            "(364, 30) (114, 30)\n"
          ],
          "name": "stdout"
        }
      ]
    },
    {
      "cell_type": "code",
      "metadata": {
        "colab": {
          "base_uri": "https://localhost:8080/"
        },
        "id": "b4glO1XZIbOV",
        "outputId": "d7eb18bb-e329-42bd-d962-47673c611ffa"
      },
      "source": [
        "print(x_train_all.shape, x_test.shape)"
      ],
      "execution_count": null,
      "outputs": [
        {
          "output_type": "stream",
          "text": [
            "(455, 30) (114, 30)\n"
          ],
          "name": "stdout"
        }
      ]
    },
    {
      "cell_type": "code",
      "metadata": {
        "colab": {
          "base_uri": "https://localhost:8080/"
        },
        "id": "9hwiGDkDG2k8",
        "outputId": "014357d1-c4fb-47c0-c0f9-b13f6de30e17"
      },
      "source": [
        "print(x_train_all.shape, x_val.shape)"
      ],
      "execution_count": null,
      "outputs": [
        {
          "output_type": "stream",
          "text": [
            "(455, 30) (91, 30)\n"
          ],
          "name": "stdout"
        }
      ]
    },
    {
      "cell_type": "code",
      "metadata": {
        "id": "briQpu8BRslE"
      },
      "source": [
        "y train shape values"
      ],
      "execution_count": null,
      "outputs": []
    },
    {
      "cell_type": "code",
      "metadata": {
        "colab": {
          "base_uri": "https://localhost:8080/"
        },
        "id": "1A74gCAURTUZ",
        "outputId": "ee6dec5f-f3b5-4abc-d7da-a4e19427cb17"
      },
      "source": [
        "print(y_train.shape, y_val.shape)"
      ],
      "execution_count": null,
      "outputs": [
        {
          "output_type": "stream",
          "text": [
            "(318,) (80,)\n"
          ],
          "name": "stdout"
        }
      ]
    },
    {
      "cell_type": "code",
      "metadata": {
        "colab": {
          "base_uri": "https://localhost:8080/"
        },
        "id": "d4-W7N51RYN1",
        "outputId": "23e15d96-0ee7-41f4-b3ab-bc56c231d9c7"
      },
      "source": [
        "print(y_train.shape, y_test.shape)"
      ],
      "execution_count": null,
      "outputs": [
        {
          "output_type": "stream",
          "text": [
            "(318,) (100,)\n"
          ],
          "name": "stdout"
        }
      ]
    },
    {
      "cell_type": "code",
      "metadata": {
        "colab": {
          "base_uri": "https://localhost:8080/"
        },
        "id": "oQibBGKSRboF",
        "outputId": "fbac4db6-2526-49ee-f447-e32adede93dc"
      },
      "source": [
        "print(y_train_all.shape, y_test.shape)"
      ],
      "execution_count": null,
      "outputs": [
        {
          "output_type": "stream",
          "text": [
            "(398,) (100,)\n"
          ],
          "name": "stdout"
        }
      ]
    },
    {
      "cell_type": "code",
      "metadata": {
        "colab": {
          "base_uri": "https://localhost:8080/"
        },
        "id": "IHioxef7RgZM",
        "outputId": "49ad73e0-5b7d-4d02-a5d4-705617f6dfc8"
      },
      "source": [
        "print(y_train_all.shape, y_val.shape)"
      ],
      "execution_count": null,
      "outputs": [
        {
          "output_type": "stream",
          "text": [
            "(398,) (80,)\n"
          ],
          "name": "stdout"
        }
      ]
    },
    {
      "cell_type": "code",
      "metadata": {
        "id": "FaONvtboI9fp"
      },
      "source": [
        "from sklearn.model_selection import cross_val_predict\n",
        "from sklearn import linear_model\n",
        "import matplotlib.pyplot as plt\n",
        "lr = linear_model.LinearRegression()"
      ],
      "execution_count": null,
      "outputs": []
    },
    {
      "cell_type": "markdown",
      "metadata": {
        "id": "9HwjjnELSY00"
      },
      "source": [
        "Even though we are only taking 0 and 1,this chart would be useful in cross validation so I included it with this dataset for future reference and learning."
      ]
    },
    {
      "cell_type": "code",
      "metadata": {
        "colab": {
          "base_uri": "https://localhost:8080/",
          "height": 279
        },
        "id": "kGRAMi4AJFw-",
        "outputId": "15153f67-7144-4d54-de40-dcd51f779504"
      },
      "source": [
        "predicted = cross_val_predict(lr, x, y, cv=10)\n",
        "\n",
        "fig, ax = plt.subplots()\n",
        "ax.scatter(y, predicted, edgecolors=(0, 0, 0))\n",
        "ax.plot([y.min(), y.max()], [y.min(), y.max()], 'k--', lw=4)\n",
        "ax.set_xlabel('Measured')\n",
        "ax.set_ylabel('Predicted')\n",
        "plt.show()"
      ],
      "execution_count": null,
      "outputs": [
        {
          "output_type": "display_data",
          "data": {
            "image/png": "[encoded data removed]",
            "text/plain": [
              "<Figure size 432x288 with 1 Axes>"
            ]
          },
          "metadata": {
            "tags": [],
            "needs_background": "light"
          }
        }
      ]
    },
    {
      "cell_type": "markdown",
      "metadata": {
        "id": "KgVki81fSw0W"
      },
      "source": [
        "Applying the standard scaler to scale the dataset and apply to fit model for overall score"
      ]
    },
    {
      "cell_type": "code",
      "metadata": {
        "id": "6Y-hdinwDuPA"
      },
      "source": [
        "scaler = StandardScaler()\n",
        "scaler.fit(x_train)\n",
        "x_train_scaled = scaler.transform(x_train)\n",
        "x_val_scaled = scaler.transform(x_val)"
      ],
      "execution_count": null,
      "outputs": []
    },
    {
      "cell_type": "code",
      "metadata": {
        "colab": {
          "base_uri": "https://localhost:8080/"
        },
        "id": "GWlirRWmDye6",
        "outputId": "274429a9-d572-4c47-e17c-8866b79d89b6"
      },
      "source": [
        "from sklearn.neural_network import MLPClassifier\n",
        "mlp = MLPClassifier(hidden_layer_sizes=(10, ), activation='logistic',\n",
        "                    solver='sgd', alpha=0.01, batch_size=32,\n",
        "                    learning_rate_init=0.1, max_iter=1000)\n",
        "mlp.fit(x_train_scaled, y_train)\n",
        "mlp.score(x_val_scaled, y_val)"
      ],
      "execution_count": null,
      "outputs": [
        {
          "output_type": "execute_result",
          "data": {
            "text/plain": [
              "0.989010989010989"
            ]
          },
          "metadata": {
            "tags": []
          },
          "execution_count": 32
        }
      ]
    },
    {
      "cell_type": "code",
      "metadata": {
        "id": "QBn9LK4ZD1qU"
      },
      "source": [
        "scaler = StandardScaler()\n",
        "scaler.fit(x_test)\n",
        "x_test_scaled = scaler.transform(x_test)"
      ],
      "execution_count": null,
      "outputs": []
    },
    {
      "cell_type": "markdown",
      "metadata": {
        "id": "VyEDMbdpTCcp"
      },
      "source": [
        "Prediction Test of the x tested data.\n",
        "\n",
        "We can see that only one model in the array is wrong giving us a high prediction score"
      ]
    },
    {
      "cell_type": "code",
      "metadata": {
        "colab": {
          "base_uri": "https://localhost:8080/"
        },
        "id": "J5qmezw0D2Km",
        "outputId": "5e9fabd8-411b-448e-f072-c1a4b4ef1763"
      },
      "source": [
        "prediction_test = mlp.predict(x_test_scaled)\n",
        "prediction_test\n",
        "#mlp.predict_proba(x_test_scaled)"
      ],
      "execution_count": null,
      "outputs": [
        {
          "output_type": "execute_result",
          "data": {
            "text/plain": [
              "array([0, 1, 0, 1, 0, 1, 1, 0, 0, 0, 1, 0, 1, 0, 0, 1, 1, 1, 1, 1, 0, 0,\n",
              "       1, 1, 1, 1, 0, 1, 1, 1, 1, 1, 1, 1, 0, 0, 1, 1, 0, 0, 1, 1, 1, 0,\n",
              "       0, 1, 1, 1, 1, 0, 1, 1, 1, 1, 1, 1, 1, 0, 0, 1, 1, 1, 1, 1, 0, 0,\n",
              "       1, 1, 1, 1, 1, 1, 1, 0, 0, 0, 0, 1, 1, 1, 1, 1, 0, 1, 0, 1, 1, 1,\n",
              "       1, 1, 1, 1, 0, 0, 0, 1, 0, 1, 0, 1, 0, 0, 0, 1, 0, 0, 1, 0, 1, 0,\n",
              "       1, 0, 1, 1])"
            ]
          },
          "metadata": {
            "tags": []
          },
          "execution_count": 34
        }
      ]
    },
    {
      "cell_type": "code",
      "metadata": {
        "colab": {
          "base_uri": "https://localhost:8080/"
        },
        "id": "9C-8vHQND5FG",
        "outputId": "b2b89b6a-de9b-47ac-b2d0-a1f570abaece"
      },
      "source": [
        "y_test"
      ],
      "execution_count": null,
      "outputs": [
        {
          "output_type": "execute_result",
          "data": {
            "text/plain": [
              "array([0, 1, 0, 1, 0, 1, 1, 0, 0, 0, 1, 0, 1, 0, 0, 1, 1, 1, 1, 1, 0, 0,\n",
              "       1, 1, 1, 1, 0, 1, 1, 1, 1, 1, 1, 1, 0, 0, 1, 1, 1, 0, 1, 1, 1, 0,\n",
              "       0, 1, 1, 1, 1, 0, 1, 1, 1, 0, 1, 1, 1, 0, 0, 1, 1, 1, 1, 1, 0, 0,\n",
              "       1, 1, 1, 1, 1, 1, 1, 0, 0, 0, 0, 1, 1, 1, 1, 1, 0, 1, 0, 1, 1, 1,\n",
              "       1, 1, 1, 1, 0, 0, 0, 1, 0, 1, 0, 1, 0, 0, 0, 1, 0, 0, 1, 0, 1, 0,\n",
              "       1, 0, 1, 1])"
            ]
          },
          "metadata": {
            "tags": []
          },
          "execution_count": 35
        }
      ]
    },
    {
      "cell_type": "code",
      "metadata": {
        "colab": {
          "base_uri": "https://localhost:8080/"
        },
        "id": "7WFev481D6Aj",
        "outputId": "c28d85e8-0a22-413a-f665-caff2fd44148"
      },
      "source": [
        "mlp.score(x_test_scaled, y_test)"
      ],
      "execution_count": null,
      "outputs": [
        {
          "output_type": "execute_result",
          "data": {
            "text/plain": [
              "0.9824561403508771"
            ]
          },
          "metadata": {
            "tags": []
          },
          "execution_count": 36
        }
      ]
    },
    {
      "cell_type": "code",
      "metadata": {
        "id": "WtqsYeviD8cI"
      },
      "source": [
        "from sklearn.metrics import confusion_matrix"
      ],
      "execution_count": null,
      "outputs": []
    },
    {
      "cell_type": "markdown",
      "metadata": {
        "id": "-rpn_I8uTKjI"
      },
      "source": [
        "Applying the confusion metrix"
      ]
    },
    {
      "cell_type": "code",
      "metadata": {
        "colab": {
          "base_uri": "https://localhost:8080/"
        },
        "id": "IYAk9WdyD-rU",
        "outputId": "418c8168-085e-477b-8ffd-6670bf0ea6a2"
      },
      "source": [
        "confusion_matrix(prediction_test, y_test)"
      ],
      "execution_count": null,
      "outputs": [
        {
          "output_type": "execute_result",
          "data": {
            "text/plain": [
              "array([[41,  1],\n",
              "       [ 1, 71]])"
            ]
          },
          "metadata": {
            "tags": []
          },
          "execution_count": 38
        }
      ]
    },
    {
      "cell_type": "markdown",
      "metadata": {
        "id": "3Umlq515TPLz"
      },
      "source": [
        "Finding:\n",
        "\n",
        "True positive (tp)\n",
        "\n",
        "True negative (tn)\n",
        "\n",
        "False Positive (fp)\n",
        "\n",
        "False Negative (fn)"
      ]
    },
    {
      "cell_type": "code",
      "metadata": {
        "colab": {
          "base_uri": "https://localhost:8080/"
        },
        "id": "08FqB0qvEAL_",
        "outputId": "dd17b81b-43d7-4a31-cb64-2aa758697618"
      },
      "source": [
        "tn, fp, fn, tp = confusion_matrix(prediction_test, y_test).ravel()\n",
        "(tn, fp, fn, tp)"
      ],
      "execution_count": null,
      "outputs": [
        {
          "output_type": "execute_result",
          "data": {
            "text/plain": [
              "(41, 1, 1, 71)"
            ]
          },
          "metadata": {
            "tags": []
          },
          "execution_count": 39
        }
      ]
    },
    {
      "cell_type": "code",
      "metadata": {
        "colab": {
          "base_uri": "https://localhost:8080/"
        },
        "id": "FWcLTUG3ECnc",
        "outputId": "a99246e5-4a17-4948-fca6-d45d3b870da7"
      },
      "source": [
        "(tp+tn)/(tp+tn+fp+fn)"
      ],
      "execution_count": null,
      "outputs": [
        {
          "output_type": "execute_result",
          "data": {
            "text/plain": [
              "0.9824561403508771"
            ]
          },
          "metadata": {
            "tags": []
          },
          "execution_count": 40
        }
      ]
    },
    {
      "cell_type": "code",
      "metadata": {
        "colab": {
          "base_uri": "https://localhost:8080/"
        },
        "id": "_dN6SewwEEds",
        "outputId": "7f4d6dcb-2f11-4860-8e23-c7afd70d4c72"
      },
      "source": [
        "# Recall\n",
        "(tp)/(tp+fn)\n",
        "# Precision\n",
        "(tp)/(tp+fp)\n",
        "# TNR\n",
        "(tn)/(tn+fp)\n",
        "# F1 Score"
      ],
      "execution_count": null,
      "outputs": [
        {
          "output_type": "execute_result",
          "data": {
            "text/plain": [
              "0.9761904761904762"
            ]
          },
          "metadata": {
            "tags": []
          },
          "execution_count": 41
        }
      ]
    },
    {
      "cell_type": "markdown",
      "metadata": {
        "id": "nCVQOnre9E-U"
      },
      "source": [
        "Here is were we enter in the Apena data for extraction"
      ]
    },
    {
      "cell_type": "markdown",
      "metadata": {
        "id": "coBEmqJeWREW"
      },
      "source": [
        "Load Extracted Features"
      ]
    },
    {
      "cell_type": "code",
      "metadata": {
        "colab": {
          "resources": {
            "http://localhost:8080/nbextensions/google.colab/files.js": {
              "data": "Ly8gQ29weXJpZ2h0IDIwMTcgR29vZ2xlIExMQwovLwovLyBMaWNlbnNlZCB1bmRlciB0aGUgQXBhY2hlIExpY2Vuc2UsIFZlcnNpb24gMi4wICh0aGUgIkxpY2Vuc2UiKTsKLy8geW91IG1heSBub3QgdXNlIHRoaXMgZmlsZSBleGNlcHQgaW4gY29tcGxpYW5jZSB3aXRoIHRoZSBMaWNlbnNlLgovLyBZb3UgbWF5IG9idGFpbiBhIGNvcHkgb2YgdGhlIExpY2Vuc2UgYXQKLy8KLy8gICAgICBodHRwOi8vd3d3LmFwYWNoZS5vcmcvbGljZW5zZXMvTElDRU5TRS0yLjAKLy8KLy8gVW5sZXNzIHJlcXVpcmVkIGJ5IGFwcGxpY2FibGUgbGF3IG9yIGFncmVlZCB0byBpbiB3cml0aW5nLCBzb2Z0d2FyZQovLyBkaXN0cmlidXRlZCB1bmRlciB0aGUgTGljZW5zZSBpcyBkaXN0cmlidXRlZCBvbiBhbiAiQVMgSVMiIEJBU0lTLAovLyBXSVRIT1VUIFdBUlJBTlRJRVMgT1IgQ09ORElUSU9OUyBPRiBBTlkgS0lORCwgZWl0aGVyIGV4cHJlc3Mgb3IgaW1wbGllZC4KLy8gU2VlIHRoZSBMaWNlbnNlIGZvciB0aGUgc3BlY2lmaWMgbGFuZ3VhZ2UgZ292ZXJuaW5nIHBlcm1pc3Npb25zIGFuZAovLyBsaW1pdGF0aW9ucyB1bmRlciB0aGUgTGljZW5zZS4KCi8qKgogKiBAZmlsZW92ZXJ2aWV3IEhlbHBlcnMgZm9yIGdvb2dsZS5jb2xhYiBQeXRob24gbW9kdWxlLgogKi8KKGZ1bmN0aW9uKHNjb3BlKSB7CmZ1bmN0aW9uIHNwYW4odGV4dCwgc3R5bGVBdHRyaWJ1dGVzID0ge30pIHsKICBjb25zdCBlbGVtZW50ID0gZG9jdW1lbnQuY3JlYXRlRWxlbWVudCgnc3BhbicpOwogIGVsZW1lbnQudGV4dENvbnRlbnQgPSB0ZXh0OwogIGZvciAoY29uc3Qga2V5IG9mIE9iamVjdC5rZXlzKHN0eWxlQXR0cmlidXRlcykpIHsKICAgIGVsZW1lbnQuc3R5bGVba2V5XSA9IHN0eWxlQXR0cmlidXRlc1trZXldOwogIH0KICByZXR1cm4gZWxlbWVudDsKfQoKLy8gTWF4IG51bWJlciBvZiBieXRlcyB3aGljaCB3aWxsIGJlIHVwbG9hZGVkIGF0IGEgdGltZS4KY29uc3QgTUFYX1BBWUxPQURfU0laRSA9IDEwMCAqIDEwMjQ7CgpmdW5jdGlvbiBfdXBsb2FkRmlsZXMoaW5wdXRJZCwgb3V0cHV0SWQpIHsKICBjb25zdCBzdGVwcyA9IHVwbG9hZEZpbGVzU3RlcChpbnB1dElkLCBvdXRwdXRJZCk7CiAgY29uc3Qgb3V0cHV0RWxlbWVudCA9IGRvY3VtZW50LmdldEVsZW1lbnRCeUlkKG91dHB1dElkKTsKICAvLyBDYWNoZSBzdGVwcyBvbiB0aGUgb3V0cHV0RWxlbWVudCB0byBtYWtlIGl0IGF2YWlsYWJsZSBmb3IgdGhlIG5leHQgY2FsbAogIC8vIHRvIHVwbG9hZEZpbGVzQ29udGludWUgZnJvbSBQeXRob24uCiAgb3V0cHV0RWxlbWVudC5zdGVwcyA9IHN0ZXBzOwoKICByZXR1cm4gX3VwbG9hZEZpbGVzQ29udGludWUob3V0cHV0SWQpOwp9CgovLyBUaGlzIGlzIHJvdWdobHkgYW4gYXN5bmMgZ2VuZXJhdG9yIChub3Qgc3VwcG9ydGVkIGluIHRoZSBicm93c2VyIHlldCksCi8vIHdoZXJlIHRoZXJlIGFyZSBtdWx0aXBsZSBhc3luY2hyb25vdXMgc3RlcHMgYW5kIHRoZSBQeXRob24gc2lkZSBpcyBnb2luZwovLyB0byBwb2xsIGZvciBjb21wbGV0aW9uIG9mIGVhY2ggc3RlcC4KLy8gVGhpcyB1c2VzIGEgUHJvbWlzZSB0byBibG9jayB0aGUgcHl0aG9uIHNpZGUgb24gY29tcGxldGlvbiBvZiBlYWNoIHN0ZXAsCi8vIHRoZW4gcGFzc2VzIHRoZSByZXN1bHQgb2YgdGhlIHByZXZpb3VzIHN0ZXAgYXMgdGhlIGlucHV0IHRvIHRoZSBuZXh0IHN0ZXAuCmZ1bmN0aW9uIF91cGxvYWRGaWxlc0NvbnRpbnVlKG91dHB1dElkKSB7CiAgY29uc3Qgb3V0cHV0RWxlbWVudCA9IGRvY3VtZW50LmdldEVsZW1lbnRCeUlkKG91dHB1dElkKTsKICBjb25zdCBzdGVwcyA9IG91dHB1dEVsZW1lbnQuc3RlcHM7CgogIGNvbnN0IG5leHQgPSBzdGVwcy5uZXh0KG91dHB1dEVsZW1lbnQubGFzdFByb21pc2VWYWx1ZSk7CiAgcmV0dXJuIFByb21pc2UucmVzb2x2ZShuZXh0LnZhbHVlLnByb21pc2UpLnRoZW4oKHZhbHVlKSA9PiB7CiAgICAvLyBDYWNoZSB0aGUgbGFzdCBwcm9taXNlIHZhbHVlIHRvIG1ha2UgaXQgYXZhaWxhYmxlIHRvIHRoZSBuZXh0CiAgICAvLyBzdGVwIG9mIHRoZSBnZW5lcmF0b3IuCiAgICBvdXRwdXRFbGVtZW50Lmxhc3RQcm9taXNlVmFsdWUgPSB2YWx1ZTsKICAgIHJldHVybiBuZXh0LnZhbHVlLnJlc3BvbnNlOwogIH0pOwp9CgovKioKICogR2VuZXJhdG9yIGZ1bmN0aW9uIHdoaWNoIGlzIGNhbGxlZCBiZXR3ZWVuIGVhY2ggYXN5bmMgc3RlcCBvZiB0aGUgdXBsb2FkCiAqIHByb2Nlc3MuCiAqIEBwYXJhbSB7c3RyaW5nfSBpbnB1dElkIEVsZW1lbnQgSUQgb2YgdGhlIGlucHV0IGZpbGUgcGlja2VyIGVsZW1lbnQuCiAqIEBwYXJhbSB7c3RyaW5nfSBvdXRwdXRJZCBFbGVtZW50IElEIG9mIHRoZSBvdXRwdXQgZGlzcGxheS4KICogQHJldHVybiB7IUl0ZXJhYmxlPCFPYmplY3Q+fSBJdGVyYWJsZSBvZiBuZXh0IHN0ZXBzLgogKi8KZnVuY3Rpb24qIHVwbG9hZEZpbGVzU3RlcChpbnB1dElkLCBvdXRwdXRJZCkgewogIGNvbnN0IGlucHV0RWxlbWVudCA9IGRvY3VtZW50LmdldEVsZW1lbnRCeUlkKGlucHV0SWQpOwogIGlucHV0RWxlbWVudC5kaXNhYmxlZCA9IGZhbHNlOwoKICBjb25zdCBvdXRwdXRFbGVtZW50ID0gZG9jdW1lbnQuZ2V0RWxlbWVudEJ5SWQob3V0cHV0SWQpOwogIG91dHB1dEVsZW1lbnQuaW5uZXJIVE1MID0gJyc7CgogIGNvbnN0IHBpY2tlZFByb21pc2UgPSBuZXcgUHJvbWlzZSgocmVzb2x2ZSkgPT4gewogICAgaW5wdXRFbGVtZW50LmFkZEV2ZW50TGlzdGVuZXIoJ2NoYW5nZScsIChlKSA9PiB7CiAgICAgIHJlc29sdmUoZS50YXJnZXQuZmlsZXMpOwogICAgfSk7CiAgfSk7CgogIGNvbnN0IGNhbmNlbCA9IGRvY3VtZW50LmNyZWF0ZUVsZW1lbnQoJ2J1dHRvbicpOwogIGlucHV0RWxlbWVudC5wYXJlbnRFbGVtZW50LmFwcGVuZENoaWxkKGNhbmNlbCk7CiAgY2FuY2VsLnRleHRDb250ZW50ID0gJ0NhbmNlbCB1cGxvYWQnOwogIGNvbnN0IGNhbmNlbFByb21pc2UgPSBuZXcgUHJvbWlzZSgocmVzb2x2ZSkgPT4gewogICAgY2FuY2VsLm9uY2xpY2sgPSAoKSA9PiB7CiAgICAgIHJlc29sdmUobnVsbCk7CiAgICB9OwogIH0pOwoKICAvLyBXYWl0IGZvciB0aGUgdXNlciB0byBwaWNrIHRoZSBmaWxlcy4KICBjb25zdCBmaWxlcyA9IHlpZWxkIHsKICAgIHByb21pc2U6IFByb21pc2UucmFjZShbcGlja2VkUHJvbWlzZSwgY2FuY2VsUHJvbWlzZV0pLAogICAgcmVzcG9uc2U6IHsKICAgICAgYWN0aW9uOiAnc3RhcnRpbmcnLAogICAgfQogIH07CgogIGNhbmNlbC5yZW1vdmUoKTsKCiAgLy8gRGlzYWJsZSB0aGUgaW5wdXQgZWxlbWVudCBzaW5jZSBmdXJ0aGVyIHBpY2tzIGFyZSBub3QgYWxsb3dlZC4KICBpbnB1dEVsZW1lbnQuZGlzYWJsZWQgPSB0cnVlOwoKICBpZiAoIWZpbGVzKSB7CiAgICByZXR1cm4gewogICAgICByZXNwb25zZTogewogICAgICAgIGFjdGlvbjogJ2NvbXBsZXRlJywKICAgICAgfQogICAgfTsKICB9CgogIGZvciAoY29uc3QgZmlsZSBvZiBmaWxlcykgewogICAgY29uc3QgbGkgPSBkb2N1bWVudC5jcmVhdGVFbGVtZW50KCdsaScpOwogICAgbGkuYXBwZW5kKHNwYW4oZmlsZS5uYW1lLCB7Zm9udFdlaWdodDogJ2JvbGQnfSkpOwogICAgbGkuYXBwZW5kKHNwYW4oCiAgICAgICAgYCgke2ZpbGUudHlwZSB8fCAnbi9hJ30pIC0gJHtmaWxlLnNpemV9IGJ5dGVzLCBgICsKICAgICAgICBgbGFzdCBtb2RpZmllZDogJHsKICAgICAgICAgICAgZmlsZS5sYXN0TW9kaWZpZWREYXRlID8gZmlsZS5sYXN0TW9kaWZpZWREYXRlLnRvTG9jYWxlRGF0ZVN0cmluZygpIDoKICAgICAgICAgICAgICAgICAgICAgICAgICAgICAgICAgICAgJ24vYSd9IC0gYCkpOwogICAgY29uc3QgcGVyY2VudCA9IHNwYW4oJzAlIGRvbmUnKTsKICAgIGxpLmFwcGVuZENoaWxkKHBlcmNlbnQpOwoKICAgIG91dHB1dEVsZW1lbnQuYXBwZW5kQ2hpbGQobGkpOwoKICAgIGNvbnN0IGZpbGVEYXRhUHJvbWlzZSA9IG5ldyBQcm9taXNlKChyZXNvbHZlKSA9PiB7CiAgICAgIGNvbnN0IHJlYWRlciA9IG5ldyBGaWxlUmVhZGVyKCk7CiAgICAgIHJlYWRlci5vbmxvYWQgPSAoZSkgPT4gewogICAgICAgIHJlc29sdmUoZS50YXJnZXQucmVzdWx0KTsKICAgICAgfTsKICAgICAgcmVhZGVyLnJlYWRBc0FycmF5QnVmZmVyKGZpbGUpOwogICAgfSk7CiAgICAvLyBXYWl0IGZvciB0aGUgZGF0YSB0byBiZSByZWFkeS4KICAgIGxldCBmaWxlRGF0YSA9IHlpZWxkIHsKICAgICAgcHJvbWlzZTogZmlsZURhdGFQcm9taXNlLAogICAgICByZXNwb25zZTogewogICAgICAgIGFjdGlvbjogJ2NvbnRpbnVlJywKICAgICAgfQogICAgfTsKCiAgICAvLyBVc2UgYSBjaHVua2VkIHNlbmRpbmcgdG8gYXZvaWQgbWVzc2FnZSBzaXplIGxpbWl0cy4gU2VlIGIvNjIxMTU2NjAuCiAgICBsZXQgcG9zaXRpb24gPSAwOwogICAgd2hpbGUgKHBvc2l0aW9uIDwgZmlsZURhdGEuYnl0ZUxlbmd0aCkgewogICAgICBjb25zdCBsZW5ndGggPSBNYXRoLm1pbihmaWxlRGF0YS5ieXRlTGVuZ3RoIC0gcG9zaXRpb24sIE1BWF9QQVlMT0FEX1NJWkUpOwogICAgICBjb25zdCBjaHVuayA9IG5ldyBVaW50OEFycmF5KGZpbGVEYXRhLCBwb3NpdGlvbiwgbGVuZ3RoKTsKICAgICAgcG9zaXRpb24gKz0gbGVuZ3RoOwoKICAgICAgY29uc3QgYmFzZTY0ID0gYnRvYShTdHJpbmcuZnJvbUNoYXJDb2RlLmFwcGx5KG51bGwsIGNodW5rKSk7CiAgICAgIHlpZWxkIHsKICAgICAgICByZXNwb25zZTogewogICAgICAgICAgYWN0aW9uOiAnYXBwZW5kJywKICAgICAgICAgIGZpbGU6IGZpbGUubmFtZSwKICAgICAgICAgIGRhdGE6IGJhc2U2NCwKICAgICAgICB9LAogICAgICB9OwogICAgICBwZXJjZW50LnRleHRDb250ZW50ID0KICAgICAgICAgIGAke01hdGgucm91bmQoKHBvc2l0aW9uIC8gZmlsZURhdGEuYnl0ZUxlbmd0aCkgKiAxMDApfSUgZG9uZWA7CiAgICB9CiAgfQoKICAvLyBBbGwgZG9uZS4KICB5aWVsZCB7CiAgICByZXNwb25zZTogewogICAgICBhY3Rpb246ICdjb21wbGV0ZScsCiAgICB9CiAgfTsKfQoKc2NvcGUuZ29vZ2xlID0gc2NvcGUuZ29vZ2xlIHx8IHt9OwpzY29wZS5nb29nbGUuY29sYWIgPSBzY29wZS5nb29nbGUuY29sYWIgfHwge307CnNjb3BlLmdvb2dsZS5jb2xhYi5fZmlsZXMgPSB7CiAgX3VwbG9hZEZpbGVzLAogIF91cGxvYWRGaWxlc0NvbnRpbnVlLAp9Owp9KShzZWxmKTsK",
              "ok": true,
              "headers": [
                [
                  "content-type",
                  "application/javascript"
                ]
              ],
              "status": 200,
              "status_text": ""
            }
          },
          "base_uri": "https://localhost:8080/",
          "height": 55
        },
        "id": "oUVwsSYZa7Vj",
        "outputId": "17747b7f-c8dc-4d0a-d2b7-d73a0e985085"
      },
      "source": [
        "from google.colab import files\n",
        "uploaded = files.upload()"
      ],
      "execution_count": null,
      "outputs": [
        {
          "output_type": "display_data",
          "data": {
            "text/html": [
              "\n",
              "     <input type=\"file\" id=\"files-0623965a-0771-4b4c-843e-5f110acc1b1b\" name=\"files[]\" multiple disabled\n",
              "        style=\"border:none\" />\n",
              "     <output id=\"result-0623965a-0771-4b4c-843e-5f110acc1b1b\">\n",
              "      Upload widget is only available when the cell has been executed in the\n",
              "      current browser session. Please rerun this cell to enable.\n",
              "      </output>\n",
              "      <script src=\"/nbextensions/google.colab/files.js\"></script> "
            ],
            "text/plain": [
              "<IPython.core.display.HTML object>"
            ]
          },
          "metadata": {
            "tags": []
          }
        },
        {
          "output_type": "stream",
          "text": [
            "Saving DAWI_Apnea_Features_V2.csv to DAWI_Apnea_Features_V2.csv\n"
          ],
          "name": "stdout"
        }
      ]
    },
    {
      "cell_type": "markdown",
      "metadata": {
        "id": "JWsf4DH7Tozr"
      },
      "source": [
        "View of the dataset. \n",
        "\n",
        "Applyed basic annotations to each feature and our last feature Apena for extraction"
      ]
    },
    {
      "cell_type": "code",
      "metadata": {
        "id": "DsKvK5E_bUKj",
        "colab": {
          "base_uri": "https://localhost:8080/",
          "height": 419
        },
        "outputId": "c44113e3-a6a9-4f95-ad3b-c88f02362078"
      },
      "source": [
        "import pandas as pd\n",
        "import io\n",
        "\n",
        "df = pd.read_csv(io.StringIO(uploaded['DAWI_Apnea_Features_V2.csv'].decode('utf-8')))\n",
        "df\n",
        "\n",
        "\n"
      ],
      "execution_count": null,
      "outputs": [
        {
          "output_type": "execute_result",
          "data": {
            "text/html": [
              "<div>\n",
              "<style scoped>\n",
              "    .dataframe tbody tr th:only-of-type {\n",
              "        vertical-align: middle;\n",
              "    }\n",
              "\n",
              "    .dataframe tbody tr th {\n",
              "        vertical-align: top;\n",
              "    }\n",
              "\n",
              "    .dataframe thead th {\n",
              "        text-align: right;\n",
              "    }\n",
              "</style>\n",
              "<table border=\"1\" class=\"dataframe\">\n",
              "  <thead>\n",
              "    <tr style=\"text-align: right;\">\n",
              "      <th></th>\n",
              "      <th>a</th>\n",
              "      <th>b</th>\n",
              "      <th>c</th>\n",
              "      <th>d</th>\n",
              "      <th>e</th>\n",
              "      <th>f</th>\n",
              "      <th>g</th>\n",
              "      <th>h</th>\n",
              "      <th>i</th>\n",
              "      <th>j</th>\n",
              "      <th>k</th>\n",
              "      <th>l</th>\n",
              "      <th>m</th>\n",
              "      <th>n</th>\n",
              "      <th>o</th>\n",
              "      <th>p</th>\n",
              "      <th>q</th>\n",
              "      <th>Apena</th>\n",
              "    </tr>\n",
              "  </thead>\n",
              "  <tbody>\n",
              "    <tr>\n",
              "      <th>0</th>\n",
              "      <td>15</td>\n",
              "      <td>100625</td>\n",
              "      <td>6708.333333</td>\n",
              "      <td>4648.532067</td>\n",
              "      <td>15342</td>\n",
              "      <td>0</td>\n",
              "      <td>6273.0</td>\n",
              "      <td>2.206384</td>\n",
              "      <td>0.228458</td>\n",
              "      <td>2912</td>\n",
              "      <td>194.133333</td>\n",
              "      <td>109.329689</td>\n",
              "      <td>349</td>\n",
              "      <td>0</td>\n",
              "      <td>164.0</td>\n",
              "      <td>2.109335</td>\n",
              "      <td>-0.254629</td>\n",
              "      <td>0</td>\n",
              "    </tr>\n",
              "    <tr>\n",
              "      <th>1</th>\n",
              "      <td>19</td>\n",
              "      <td>115526</td>\n",
              "      <td>6080.315789</td>\n",
              "      <td>3058.787615</td>\n",
              "      <td>10785</td>\n",
              "      <td>0</td>\n",
              "      <td>6251.0</td>\n",
              "      <td>2.575502</td>\n",
              "      <td>-0.464226</td>\n",
              "      <td>3274</td>\n",
              "      <td>172.315789</td>\n",
              "      <td>90.604791</td>\n",
              "      <td>344</td>\n",
              "      <td>0</td>\n",
              "      <td>159.0</td>\n",
              "      <td>2.633273</td>\n",
              "      <td>-0.069329</td>\n",
              "      <td>0</td>\n",
              "    </tr>\n",
              "    <tr>\n",
              "      <th>2</th>\n",
              "      <td>21</td>\n",
              "      <td>125263</td>\n",
              "      <td>5964.904762</td>\n",
              "      <td>8372.466141</td>\n",
              "      <td>28683</td>\n",
              "      <td>0</td>\n",
              "      <td>895.0</td>\n",
              "      <td>3.634642</td>\n",
              "      <td>1.298441</td>\n",
              "      <td>2985</td>\n",
              "      <td>142.142857</td>\n",
              "      <td>152.074089</td>\n",
              "      <td>474</td>\n",
              "      <td>0</td>\n",
              "      <td>64.0</td>\n",
              "      <td>2.736737</td>\n",
              "      <td>1.012667</td>\n",
              "      <td>0</td>\n",
              "    </tr>\n",
              "    <tr>\n",
              "      <th>3</th>\n",
              "      <td>21</td>\n",
              "      <td>106683</td>\n",
              "      <td>5080.142857</td>\n",
              "      <td>6154.919596</td>\n",
              "      <td>21689</td>\n",
              "      <td>0</td>\n",
              "      <td>2487.0</td>\n",
              "      <td>3.529734</td>\n",
              "      <td>1.126890</td>\n",
              "      <td>2902</td>\n",
              "      <td>138.190476</td>\n",
              "      <td>164.061153</td>\n",
              "      <td>664</td>\n",
              "      <td>0</td>\n",
              "      <td>74.0</td>\n",
              "      <td>5.929711</td>\n",
              "      <td>1.706555</td>\n",
              "      <td>0</td>\n",
              "    </tr>\n",
              "    <tr>\n",
              "      <th>4</th>\n",
              "      <td>18</td>\n",
              "      <td>95201</td>\n",
              "      <td>5288.944444</td>\n",
              "      <td>4888.938878</td>\n",
              "      <td>13928</td>\n",
              "      <td>0</td>\n",
              "      <td>3568.0</td>\n",
              "      <td>1.805114</td>\n",
              "      <td>0.485112</td>\n",
              "      <td>3258</td>\n",
              "      <td>181.000000</td>\n",
              "      <td>137.614979</td>\n",
              "      <td>394</td>\n",
              "      <td>0</td>\n",
              "      <td>156.5</td>\n",
              "      <td>1.505151</td>\n",
              "      <td>0.228788</td>\n",
              "      <td>0</td>\n",
              "    </tr>\n",
              "    <tr>\n",
              "      <th>...</th>\n",
              "      <td>...</td>\n",
              "      <td>...</td>\n",
              "      <td>...</td>\n",
              "      <td>...</td>\n",
              "      <td>...</td>\n",
              "      <td>...</td>\n",
              "      <td>...</td>\n",
              "      <td>...</td>\n",
              "      <td>...</td>\n",
              "      <td>...</td>\n",
              "      <td>...</td>\n",
              "      <td>...</td>\n",
              "      <td>...</td>\n",
              "      <td>...</td>\n",
              "      <td>...</td>\n",
              "      <td>...</td>\n",
              "      <td>...</td>\n",
              "      <td>...</td>\n",
              "    </tr>\n",
              "    <tr>\n",
              "      <th>493</th>\n",
              "      <td>23</td>\n",
              "      <td>102407</td>\n",
              "      <td>4452.478261</td>\n",
              "      <td>5129.966648</td>\n",
              "      <td>18037</td>\n",
              "      <td>0</td>\n",
              "      <td>2196.0</td>\n",
              "      <td>3.919340</td>\n",
              "      <td>1.466569</td>\n",
              "      <td>2813</td>\n",
              "      <td>122.304348</td>\n",
              "      <td>63.795436</td>\n",
              "      <td>229</td>\n",
              "      <td>0</td>\n",
              "      <td>144.0</td>\n",
              "      <td>2.364280</td>\n",
              "      <td>-0.539491</td>\n",
              "      <td>1</td>\n",
              "    </tr>\n",
              "    <tr>\n",
              "      <th>494</th>\n",
              "      <td>25</td>\n",
              "      <td>75749</td>\n",
              "      <td>3029.960000</td>\n",
              "      <td>3675.058486</td>\n",
              "      <td>14568</td>\n",
              "      <td>0</td>\n",
              "      <td>2200.0</td>\n",
              "      <td>6.603483</td>\n",
              "      <td>2.060178</td>\n",
              "      <td>2597</td>\n",
              "      <td>103.880000</td>\n",
              "      <td>55.901193</td>\n",
              "      <td>214</td>\n",
              "      <td>0</td>\n",
              "      <td>119.0</td>\n",
              "      <td>2.551887</td>\n",
              "      <td>-0.557078</td>\n",
              "      <td>1</td>\n",
              "    </tr>\n",
              "    <tr>\n",
              "      <th>495</th>\n",
              "      <td>23</td>\n",
              "      <td>90908</td>\n",
              "      <td>3952.521739</td>\n",
              "      <td>5969.427678</td>\n",
              "      <td>21844</td>\n",
              "      <td>0</td>\n",
              "      <td>1643.0</td>\n",
              "      <td>5.583934</td>\n",
              "      <td>1.956528</td>\n",
              "      <td>2753</td>\n",
              "      <td>119.695652</td>\n",
              "      <td>84.657833</td>\n",
              "      <td>339</td>\n",
              "      <td>0</td>\n",
              "      <td>121.0</td>\n",
              "      <td>3.593550</td>\n",
              "      <td>0.732469</td>\n",
              "      <td>1</td>\n",
              "    </tr>\n",
              "    <tr>\n",
              "      <th>496</th>\n",
              "      <td>22</td>\n",
              "      <td>117803</td>\n",
              "      <td>5354.681818</td>\n",
              "      <td>6303.823960</td>\n",
              "      <td>20205</td>\n",
              "      <td>0</td>\n",
              "      <td>2072.0</td>\n",
              "      <td>3.443025</td>\n",
              "      <td>1.327323</td>\n",
              "      <td>2957</td>\n",
              "      <td>134.409091</td>\n",
              "      <td>89.097945</td>\n",
              "      <td>454</td>\n",
              "      <td>0</td>\n",
              "      <td>129.0</td>\n",
              "      <td>8.958628</td>\n",
              "      <td>1.818306</td>\n",
              "      <td>1</td>\n",
              "    </tr>\n",
              "    <tr>\n",
              "      <th>497</th>\n",
              "      <td>43</td>\n",
              "      <td>66981</td>\n",
              "      <td>1557.697674</td>\n",
              "      <td>4065.056859</td>\n",
              "      <td>22790</td>\n",
              "      <td>0</td>\n",
              "      <td>43.0</td>\n",
              "      <td>19.132675</td>\n",
              "      <td>3.878174</td>\n",
              "      <td>2621</td>\n",
              "      <td>60.953488</td>\n",
              "      <td>71.298485</td>\n",
              "      <td>354</td>\n",
              "      <td>0</td>\n",
              "      <td>36.0</td>\n",
              "      <td>8.054264</td>\n",
              "      <td>2.044468</td>\n",
              "      <td>1</td>\n",
              "    </tr>\n",
              "  </tbody>\n",
              "</table>\n",
              "<p>498 rows × 18 columns</p>\n",
              "</div>"
            ],
            "text/plain": [
              "      a       b            c            d  ...      o         p         q  Apena\n",
              "0    15  100625  6708.333333  4648.532067  ...  164.0  2.109335 -0.254629      0\n",
              "1    19  115526  6080.315789  3058.787615  ...  159.0  2.633273 -0.069329      0\n",
              "2    21  125263  5964.904762  8372.466141  ...   64.0  2.736737  1.012667      0\n",
              "3    21  106683  5080.142857  6154.919596  ...   74.0  5.929711  1.706555      0\n",
              "4    18   95201  5288.944444  4888.938878  ...  156.5  1.505151  0.228788      0\n",
              "..   ..     ...          ...          ...  ...    ...       ...       ...    ...\n",
              "493  23  102407  4452.478261  5129.966648  ...  144.0  2.364280 -0.539491      1\n",
              "494  25   75749  3029.960000  3675.058486  ...  119.0  2.551887 -0.557078      1\n",
              "495  23   90908  3952.521739  5969.427678  ...  121.0  3.593550  0.732469      1\n",
              "496  22  117803  5354.681818  6303.823960  ...  129.0  8.958628  1.818306      1\n",
              "497  43   66981  1557.697674  4065.056859  ...   36.0  8.054264  2.044468      1\n",
              "\n",
              "[498 rows x 18 columns]"
            ]
          },
          "metadata": {
            "tags": []
          },
          "execution_count": 44
        }
      ]
    },
    {
      "cell_type": "markdown",
      "metadata": {
        "id": "FSiiFA76T2mU"
      },
      "source": [
        "Describes the dataset"
      ]
    },
    {
      "cell_type": "code",
      "metadata": {
        "colab": {
          "base_uri": "https://localhost:8080/",
          "height": 297
        },
        "id": "rFbxH_OQ9YQA",
        "outputId": "907ae23f-dde5-4ea3-bb7b-6133a4ab0887"
      },
      "source": [
        "\n",
        "df.describe()"
      ],
      "execution_count": null,
      "outputs": [
        {
          "output_type": "execute_result",
          "data": {
            "text/html": [
              "<div>\n",
              "<style scoped>\n",
              "    .dataframe tbody tr th:only-of-type {\n",
              "        vertical-align: middle;\n",
              "    }\n",
              "\n",
              "    .dataframe tbody tr th {\n",
              "        vertical-align: top;\n",
              "    }\n",
              "\n",
              "    .dataframe thead th {\n",
              "        text-align: right;\n",
              "    }\n",
              "</style>\n",
              "<table border=\"1\" class=\"dataframe\">\n",
              "  <thead>\n",
              "    <tr style=\"text-align: right;\">\n",
              "      <th></th>\n",
              "      <th>a</th>\n",
              "      <th>b</th>\n",
              "      <th>c</th>\n",
              "      <th>d</th>\n",
              "      <th>e</th>\n",
              "      <th>f</th>\n",
              "      <th>g</th>\n",
              "      <th>h</th>\n",
              "      <th>i</th>\n",
              "      <th>j</th>\n",
              "      <th>k</th>\n",
              "      <th>l</th>\n",
              "      <th>m</th>\n",
              "      <th>n</th>\n",
              "      <th>o</th>\n",
              "      <th>p</th>\n",
              "      <th>q</th>\n",
              "      <th>Apena</th>\n",
              "    </tr>\n",
              "  </thead>\n",
              "  <tbody>\n",
              "    <tr>\n",
              "      <th>count</th>\n",
              "      <td>498.000000</td>\n",
              "      <td>498.000000</td>\n",
              "      <td>498.000000</td>\n",
              "      <td>498.000000</td>\n",
              "      <td>498.000000</td>\n",
              "      <td>498.000000</td>\n",
              "      <td>498.000000</td>\n",
              "      <td>498.000000</td>\n",
              "      <td>498.000000</td>\n",
              "      <td>498.000000</td>\n",
              "      <td>498.000000</td>\n",
              "      <td>498.000000</td>\n",
              "      <td>498.000000</td>\n",
              "      <td>498.0</td>\n",
              "      <td>498.000000</td>\n",
              "      <td>498.000000</td>\n",
              "      <td>498.000000</td>\n",
              "      <td>498.000000</td>\n",
              "    </tr>\n",
              "    <tr>\n",
              "      <th>mean</th>\n",
              "      <td>30.343373</td>\n",
              "      <td>91398.445783</td>\n",
              "      <td>3407.426041</td>\n",
              "      <td>5205.333080</td>\n",
              "      <td>20678.192771</td>\n",
              "      <td>-0.174699</td>\n",
              "      <td>1547.397590</td>\n",
              "      <td>8.429182</td>\n",
              "      <td>2.232378</td>\n",
              "      <td>2720.120482</td>\n",
              "      <td>98.685380</td>\n",
              "      <td>80.442202</td>\n",
              "      <td>323.506024</td>\n",
              "      <td>0.0</td>\n",
              "      <td>90.515060</td>\n",
              "      <td>5.012947</td>\n",
              "      <td>0.889945</td>\n",
              "      <td>0.921687</td>\n",
              "    </tr>\n",
              "    <tr>\n",
              "      <th>std</th>\n",
              "      <td>10.209307</td>\n",
              "      <td>33893.267471</td>\n",
              "      <td>1811.310266</td>\n",
              "      <td>2246.416944</td>\n",
              "      <td>9217.840073</td>\n",
              "      <td>2.246303</td>\n",
              "      <td>1718.807495</td>\n",
              "      <td>6.321121</td>\n",
              "      <td>1.119216</td>\n",
              "      <td>244.255946</td>\n",
              "      <td>31.806822</td>\n",
              "      <td>28.850906</td>\n",
              "      <td>144.055436</td>\n",
              "      <td>0.0</td>\n",
              "      <td>42.049856</td>\n",
              "      <td>4.717868</td>\n",
              "      <td>1.188723</td>\n",
              "      <td>0.268934</td>\n",
              "    </tr>\n",
              "    <tr>\n",
              "      <th>min</th>\n",
              "      <td>15.000000</td>\n",
              "      <td>28425.000000</td>\n",
              "      <td>568.500000</td>\n",
              "      <td>1167.110206</td>\n",
              "      <td>4774.000000</td>\n",
              "      <td>-29.000000</td>\n",
              "      <td>17.000000</td>\n",
              "      <td>1.251386</td>\n",
              "      <td>-0.745117</td>\n",
              "      <td>1812.000000</td>\n",
              "      <td>29.146067</td>\n",
              "      <td>39.258627</td>\n",
              "      <td>149.000000</td>\n",
              "      <td>0.0</td>\n",
              "      <td>9.000000</td>\n",
              "      <td>1.387646</td>\n",
              "      <td>-1.861936</td>\n",
              "      <td>0.000000</td>\n",
              "    </tr>\n",
              "    <tr>\n",
              "      <th>25%</th>\n",
              "      <td>23.000000</td>\n",
              "      <td>66981.000000</td>\n",
              "      <td>2132.320000</td>\n",
              "      <td>3386.927154</td>\n",
              "      <td>13928.000000</td>\n",
              "      <td>0.000000</td>\n",
              "      <td>306.500000</td>\n",
              "      <td>4.231876</td>\n",
              "      <td>1.494451</td>\n",
              "      <td>2590.000000</td>\n",
              "      <td>78.281250</td>\n",
              "      <td>60.106948</td>\n",
              "      <td>204.000000</td>\n",
              "      <td>0.0</td>\n",
              "      <td>59.000000</td>\n",
              "      <td>2.076511</td>\n",
              "      <td>-0.025508</td>\n",
              "      <td>1.000000</td>\n",
              "    </tr>\n",
              "    <tr>\n",
              "      <th>50%</th>\n",
              "      <td>28.000000</td>\n",
              "      <td>88229.500000</td>\n",
              "      <td>3269.287097</td>\n",
              "      <td>5068.361666</td>\n",
              "      <td>18834.500000</td>\n",
              "      <td>0.000000</td>\n",
              "      <td>1403.000000</td>\n",
              "      <td>6.249545</td>\n",
              "      <td>2.100718</td>\n",
              "      <td>2699.500000</td>\n",
              "      <td>94.529178</td>\n",
              "      <td>71.093097</td>\n",
              "      <td>264.000000</td>\n",
              "      <td>0.0</td>\n",
              "      <td>98.000000</td>\n",
              "      <td>2.824566</td>\n",
              "      <td>0.639793</td>\n",
              "      <td>1.000000</td>\n",
              "    </tr>\n",
              "    <tr>\n",
              "      <th>75%</th>\n",
              "      <td>34.000000</td>\n",
              "      <td>110779.000000</td>\n",
              "      <td>4304.076923</td>\n",
              "      <td>6154.919596</td>\n",
              "      <td>25108.000000</td>\n",
              "      <td>0.000000</td>\n",
              "      <td>1936.000000</td>\n",
              "      <td>10.762811</td>\n",
              "      <td>2.907279</td>\n",
              "      <td>2832.000000</td>\n",
              "      <td>119.695652</td>\n",
              "      <td>94.121988</td>\n",
              "      <td>434.000000</td>\n",
              "      <td>0.0</td>\n",
              "      <td>119.000000</td>\n",
              "      <td>6.554025</td>\n",
              "      <td>1.778213</td>\n",
              "      <td>1.000000</td>\n",
              "    </tr>\n",
              "    <tr>\n",
              "      <th>max</th>\n",
              "      <td>89.000000</td>\n",
              "      <td>245873.000000</td>\n",
              "      <td>12940.684210</td>\n",
              "      <td>12362.097030</td>\n",
              "      <td>46440.000000</td>\n",
              "      <td>0.000000</td>\n",
              "      <td>14296.000000</td>\n",
              "      <td>39.754190</td>\n",
              "      <td>5.969523</td>\n",
              "      <td>3526.000000</td>\n",
              "      <td>209.500000</td>\n",
              "      <td>192.455493</td>\n",
              "      <td>784.000000</td>\n",
              "      <td>0.0</td>\n",
              "      <td>234.000000</td>\n",
              "      <td>30.331545</td>\n",
              "      <td>5.080252</td>\n",
              "      <td>1.000000</td>\n",
              "    </tr>\n",
              "  </tbody>\n",
              "</table>\n",
              "</div>"
            ],
            "text/plain": [
              "                a              b  ...           q       Apena\n",
              "count  498.000000     498.000000  ...  498.000000  498.000000\n",
              "mean    30.343373   91398.445783  ...    0.889945    0.921687\n",
              "std     10.209307   33893.267471  ...    1.188723    0.268934\n",
              "min     15.000000   28425.000000  ...   -1.861936    0.000000\n",
              "25%     23.000000   66981.000000  ...   -0.025508    1.000000\n",
              "50%     28.000000   88229.500000  ...    0.639793    1.000000\n",
              "75%     34.000000  110779.000000  ...    1.778213    1.000000\n",
              "max     89.000000  245873.000000  ...    5.080252    1.000000\n",
              "\n",
              "[8 rows x 18 columns]"
            ]
          },
          "metadata": {
            "tags": []
          },
          "execution_count": 45
        }
      ]
    },
    {
      "cell_type": "markdown",
      "metadata": {
        "id": "8TU3eQGMT40n"
      },
      "source": [
        "Shape of dataset"
      ]
    },
    {
      "cell_type": "code",
      "metadata": {
        "colab": {
          "base_uri": "https://localhost:8080/"
        },
        "id": "XyiICYz9-_4y",
        "outputId": "bc368d51-bc38-4d4d-9543-ee5c59864c4e"
      },
      "source": [
        "df.shape"
      ],
      "execution_count": null,
      "outputs": [
        {
          "output_type": "execute_result",
          "data": {
            "text/plain": [
              "(498, 18)"
            ]
          },
          "metadata": {
            "tags": []
          },
          "execution_count": 46
        }
      ]
    },
    {
      "cell_type": "markdown",
      "metadata": {
        "id": "VFecKFvNT75d"
      },
      "source": [
        "This is our counts of Normal or 0 and Apena or 1\n"
      ]
    },
    {
      "cell_type": "code",
      "metadata": {
        "colab": {
          "base_uri": "https://localhost:8080/"
        },
        "id": "ECwxvfaX_IuF",
        "outputId": "a562b768-bdf1-4b7e-b795-6b73b0f65821"
      },
      "source": [
        "#df[\"Normal/Apena\" ] = pd.DataFrame(data, columns=['Normal/Apena'])\n",
        "\n",
        "count1 = df[df.Apena== 1].count()\n",
        "count0 = df[df.Apena== 0].count()\n",
        "print (count1)\n",
        "print (count0)\n",
        "print ((count0/(count1 + count0) ) *100)"
      ],
      "execution_count": null,
      "outputs": [
        {
          "output_type": "stream",
          "text": [
            "a        459\n",
            "b        459\n",
            "c        459\n",
            "d        459\n",
            "e        459\n",
            "f        459\n",
            "g        459\n",
            "h        459\n",
            "i        459\n",
            "j        459\n",
            "k        459\n",
            "l        459\n",
            "m        459\n",
            "n        459\n",
            "o        459\n",
            "p        459\n",
            "q        459\n",
            "Apena    459\n",
            "dtype: int64\n",
            "a        39\n",
            "b        39\n",
            "c        39\n",
            "d        39\n",
            "e        39\n",
            "f        39\n",
            "g        39\n",
            "h        39\n",
            "i        39\n",
            "j        39\n",
            "k        39\n",
            "l        39\n",
            "m        39\n",
            "n        39\n",
            "o        39\n",
            "p        39\n",
            "q        39\n",
            "Apena    39\n",
            "dtype: int64\n",
            "a        7.831325\n",
            "b        7.831325\n",
            "c        7.831325\n",
            "d        7.831325\n",
            "e        7.831325\n",
            "f        7.831325\n",
            "g        7.831325\n",
            "h        7.831325\n",
            "i        7.831325\n",
            "j        7.831325\n",
            "k        7.831325\n",
            "l        7.831325\n",
            "m        7.831325\n",
            "n        7.831325\n",
            "o        7.831325\n",
            "p        7.831325\n",
            "q        7.831325\n",
            "Apena    7.831325\n",
            "dtype: float64\n"
          ],
          "name": "stdout"
        }
      ]
    },
    {
      "cell_type": "code",
      "metadata": {
        "colab": {
          "base_uri": "https://localhost:8080/",
          "height": 500
        },
        "id": "wnsKmCT89GLq",
        "outputId": "f657e3b4-f99d-4021-bdbb-2eb3e76bc9d3"
      },
      "source": [
        "dft = np.transpose(df)\n",
        "\n",
        "plt.boxplot(dft)\n",
        "plt.xlabel('feature')\n",
        "plt.ylabel('value')\n",
        "plt.show()\n",
        "\n",
        "x1 = dft.iloc[0:16,:]\n",
        "y1 = dft.iloc[17,:]\n",
        "x1 = np.transpose(x1)\n",
        "from sklearn import preprocessing\n",
        "\n",
        "\n",
        "# normalize the data attributes\n",
        "x1 = preprocessing.normalize(x1)\n",
        "x1"
      ],
      "execution_count": null,
      "outputs": [
        {
          "output_type": "display_data",
          "data": {
            "image/png": "[encoded data removed]",
            "text/plain": [
              "<Figure size 432x288 with 1 Axes>"
            ]
          },
          "metadata": {
            "tags": [],
            "needs_background": "light"
          }
        },
        {
          "output_type": "execute_result",
          "data": {
            "text/plain": [
              "array([[1.46556743e-04, 9.83151486e-01, 6.55434324e-02, ...,\n",
              "        0.00000000e+00, 1.60235373e-03, 2.06091527e-05],\n",
              "       [1.63170546e-04, 9.92128450e-01, 5.22172868e-02, ...,\n",
              "        0.00000000e+00, 1.36547984e-03, 2.26143510e-05],\n",
              "       [1.62848466e-04, 9.71375590e-01, 4.62559805e-02, ...,\n",
              "        0.00000000e+00, 4.96300087e-04, 2.12225441e-05],\n",
              "       ...,\n",
              "       [2.45137491e-04, 9.68911264e-01, 4.21265767e-02, ...,\n",
              "        0.00000000e+00, 1.28963637e-03, 3.83005988e-05],\n",
              "       [1.83540660e-04, 9.82801835e-01, 4.46728107e-02, ...,\n",
              "        0.00000000e+00, 1.07621569e-03, 7.47396604e-05],\n",
              "       [6.06187286e-04, 9.44256526e-01, 2.19594541e-02, ...,\n",
              "        0.00000000e+00, 5.07505635e-04, 1.13544003e-04]])"
            ]
          },
          "metadata": {
            "tags": []
          },
          "execution_count": 48
        }
      ]
    },
    {
      "cell_type": "markdown",
      "metadata": {
        "id": "5fAvJq_iUGM2"
      },
      "source": [
        "Train the dataset"
      ]
    },
    {
      "cell_type": "code",
      "metadata": {
        "id": "clDpahzvcPor"
      },
      "source": [
        "x_train, x_test, y_train, y_test = train_test_split(x1, y1, stratify=y1, test_size=0.2, random_state=42)"
      ],
      "execution_count": null,
      "outputs": []
    },
    {
      "cell_type": "code",
      "metadata": {
        "id": "3aDH5Nc1csb3"
      },
      "source": [
        "x_train_all, x_test, y_train_all, y_test = train_test_split(x1, y1, stratify=y1, \n",
        "                                                            test_size=0.2, random_state=42)"
      ],
      "execution_count": null,
      "outputs": []
    },
    {
      "cell_type": "code",
      "metadata": {
        "id": "lTYiuVfYcYG-"
      },
      "source": [
        "x_train, x_val, y_train, y_val = train_test_split(x_train_all, y_train_all, stratify=y_train_all, \n",
        "                                                  test_size=0.2, random_state=42)"
      ],
      "execution_count": null,
      "outputs": []
    },
    {
      "cell_type": "markdown",
      "metadata": {
        "id": "-gkqRByPUH_r"
      },
      "source": [
        "x train shape value"
      ]
    },
    {
      "cell_type": "code",
      "metadata": {
        "id": "cFwtECQOqO8Z",
        "colab": {
          "base_uri": "https://localhost:8080/"
        },
        "outputId": "f595ee71-e086-4423-cab2-7976ac2f7a60"
      },
      "source": [
        "print(x_train.shape, x_val.shape)"
      ],
      "execution_count": null,
      "outputs": [
        {
          "output_type": "stream",
          "text": [
            "(318, 16) (80, 16)\n"
          ],
          "name": "stdout"
        }
      ]
    },
    {
      "cell_type": "code",
      "metadata": {
        "id": "w8lzgcfMRzwL"
      },
      "source": [
        "print(x_train.shape, x_test.shape)"
      ],
      "execution_count": null,
      "outputs": []
    },
    {
      "cell_type": "code",
      "metadata": {
        "id": "6eKwmDU_Rzr7"
      },
      "source": [
        "print(x_train_all.shape, x_test.shape)"
      ],
      "execution_count": null,
      "outputs": []
    },
    {
      "cell_type": "code",
      "metadata": {
        "id": "Wor8NhCXRyYl"
      },
      "source": [
        "print(x_train_all.shape, x_val.shape)"
      ],
      "execution_count": null,
      "outputs": []
    },
    {
      "cell_type": "markdown",
      "metadata": {
        "id": "94rNIrtCURk_"
      },
      "source": [
        "y train shape value"
      ]
    },
    {
      "cell_type": "code",
      "metadata": {
        "id": "B-Tm_zvIRyOc"
      },
      "source": [
        "print(y_train.shape, y_val.shape)"
      ],
      "execution_count": null,
      "outputs": []
    },
    {
      "cell_type": "code",
      "metadata": {
        "id": "PYrKe2vyRyHD"
      },
      "source": [
        "print(y_train.shape, y_test.shape)"
      ],
      "execution_count": null,
      "outputs": []
    },
    {
      "cell_type": "code",
      "metadata": {
        "id": "Z9lW6DrKRyDv"
      },
      "source": [
        "print(y_train_all.shape, y_test.shape)"
      ],
      "execution_count": null,
      "outputs": []
    },
    {
      "cell_type": "code",
      "metadata": {
        "id": "jzkxnWNWRxsx"
      },
      "source": [
        "print(y_train_all.shape, y_val.shape)"
      ],
      "execution_count": null,
      "outputs": []
    },
    {
      "cell_type": "markdown",
      "metadata": {
        "id": "cJ52apk9UUfd"
      },
      "source": [
        "Applying standard scaler adn applying prediction test"
      ]
    },
    {
      "cell_type": "code",
      "metadata": {
        "id": "w_ne_YQ8W5bF"
      },
      "source": [
        "scaler = StandardScaler()\n",
        "scaler.fit(x_train)\n",
        "x_train_scaled = scaler.transform(x_train)\n",
        "x_val_scaled = scaler.transform(x_val)"
      ],
      "execution_count": null,
      "outputs": []
    },
    {
      "cell_type": "code",
      "metadata": {
        "id": "GiBWhbi7W5bF",
        "colab": {
          "base_uri": "https://localhost:8080/"
        },
        "outputId": "057226c3-0417-44fc-99fd-5fd17d330a9b"
      },
      "source": [
        "from sklearn.neural_network import MLPClassifier\n",
        "mlp = MLPClassifier(hidden_layer_sizes=(10, ), activation='logistic',\n",
        "                    solver='sgd', alpha=0.01, batch_size=32,\n",
        "                    learning_rate_init=0.1, max_iter=1000)\n",
        "mlp.fit(x_train_scaled, y_train)\n",
        "mlp.score(x_val_scaled, y_val)"
      ],
      "execution_count": null,
      "outputs": [
        {
          "output_type": "execute_result",
          "data": {
            "text/plain": [
              "1.0"
            ]
          },
          "metadata": {
            "tags": []
          },
          "execution_count": 75
        }
      ]
    },
    {
      "cell_type": "code",
      "metadata": {
        "id": "IFWacUnzW5bF"
      },
      "source": [
        "scaler = StandardScaler()\n",
        "scaler.fit(x_test)\n",
        "x_test_scaled = scaler.transform(x_test)"
      ],
      "execution_count": null,
      "outputs": []
    },
    {
      "cell_type": "code",
      "metadata": {
        "id": "V-vrrPciW5bG",
        "colab": {
          "base_uri": "https://localhost:8080/"
        },
        "outputId": "9dba373f-40b6-496e-f9e8-3d2843f5d6b6"
      },
      "source": [
        "prediction_test = mlp.predict(x_test_scaled)\n",
        "prediction_test\n",
        "mlp.predict_proba(x_test_scaled)"
      ],
      "execution_count": null,
      "outputs": [
        {
          "output_type": "execute_result",
          "data": {
            "text/plain": [
              "array([[3.02067663e-05, 9.99969793e-01],\n",
              "       [2.84251232e-03, 9.97157488e-01],\n",
              "       [8.45838083e-07, 9.99999154e-01],\n",
              "       [9.40507368e-01, 5.94926321e-02],\n",
              "       [2.45662304e-04, 9.99754338e-01],\n",
              "       [1.39100191e-01, 8.60899809e-01],\n",
              "       [2.09581553e-03, 9.97904184e-01],\n",
              "       [7.87907219e-03, 9.92120928e-01],\n",
              "       [3.18694088e-06, 9.99996813e-01],\n",
              "       [9.71728745e-04, 9.99028271e-01],\n",
              "       [2.27131203e-04, 9.99772869e-01],\n",
              "       [3.62146811e-05, 9.99963785e-01],\n",
              "       [1.67774307e-05, 9.99983223e-01],\n",
              "       [8.21335626e-04, 9.99178664e-01],\n",
              "       [2.84251232e-03, 9.97157488e-01],\n",
              "       [1.67774307e-05, 9.99983223e-01],\n",
              "       [8.80208607e-05, 9.99911979e-01],\n",
              "       [8.59152524e-03, 9.91408475e-01],\n",
              "       [6.98818558e-04, 9.99301181e-01],\n",
              "       [5.79827675e-04, 9.99420172e-01],\n",
              "       [3.54009237e-04, 9.99645991e-01],\n",
              "       [2.38902181e-03, 9.97610978e-01],\n",
              "       [9.53532822e-03, 9.90464672e-01],\n",
              "       [2.41708486e-04, 9.99758292e-01],\n",
              "       [1.50727362e-07, 9.99999849e-01],\n",
              "       [5.99271790e-07, 9.99999401e-01],\n",
              "       [1.71062723e-02, 9.82893728e-01],\n",
              "       [3.77025269e-04, 9.99622975e-01],\n",
              "       [8.36630879e-05, 9.99916337e-01],\n",
              "       [6.71492995e-03, 9.93285070e-01],\n",
              "       [5.72695468e-06, 9.99994273e-01],\n",
              "       [1.22756852e-03, 9.98772431e-01],\n",
              "       [8.45838083e-07, 9.99999154e-01],\n",
              "       [2.18308822e-04, 9.99781691e-01],\n",
              "       [9.90305232e-01, 9.69476757e-03],\n",
              "       [4.05032104e-04, 9.99594968e-01],\n",
              "       [4.41072794e-06, 9.99995589e-01],\n",
              "       [3.18694088e-06, 9.99996813e-01],\n",
              "       [4.69103326e-02, 9.53089667e-01],\n",
              "       [5.24596904e-04, 9.99475403e-01],\n",
              "       [1.12932040e-03, 9.98870680e-01],\n",
              "       [6.05859400e-04, 9.99394141e-01],\n",
              "       [1.76794901e-04, 9.99823205e-01],\n",
              "       [3.16113916e-02, 9.68388608e-01],\n",
              "       [4.27327583e-03, 9.95726724e-01],\n",
              "       [1.17806236e-03, 9.98821938e-01],\n",
              "       [6.71492995e-03, 9.93285070e-01],\n",
              "       [3.86276938e-07, 9.99999614e-01],\n",
              "       [4.98238497e-06, 9.99995018e-01],\n",
              "       [9.75039782e-01, 2.49602181e-02],\n",
              "       [1.19987444e-05, 9.99988001e-01],\n",
              "       [2.46907993e-03, 9.97530920e-01],\n",
              "       [4.99318577e-04, 9.99500681e-01],\n",
              "       [3.39370963e-04, 9.99660629e-01],\n",
              "       [3.54009237e-04, 9.99645991e-01],\n",
              "       [2.45662304e-04, 9.99754338e-01],\n",
              "       [2.05695435e-03, 9.97943046e-01],\n",
              "       [6.08896017e-05, 9.99939110e-01],\n",
              "       [2.30251384e-07, 9.99999770e-01],\n",
              "       [3.62146811e-05, 9.99963785e-01],\n",
              "       [4.54640537e-03, 9.95453595e-01],\n",
              "       [9.73995433e-01, 2.60045666e-02],\n",
              "       [6.05859400e-04, 9.99394141e-01],\n",
              "       [5.72221804e-07, 9.99999428e-01],\n",
              "       [1.93297590e-03, 9.98067024e-01],\n",
              "       [4.38302059e-03, 9.95616979e-01],\n",
              "       [9.09433345e-01, 9.05666552e-02],\n",
              "       [4.05032104e-04, 9.99594968e-01],\n",
              "       [1.50727362e-07, 9.99999849e-01],\n",
              "       [3.21627155e-06, 9.99996784e-01],\n",
              "       [4.54640537e-03, 9.95453595e-01],\n",
              "       [1.06547074e-03, 9.98934529e-01],\n",
              "       [5.81277632e-02, 9.41872237e-01],\n",
              "       [4.11475363e-03, 9.95885246e-01],\n",
              "       [9.90309942e-01, 9.69005813e-03],\n",
              "       [1.09394927e-03, 9.98906051e-01],\n",
              "       [4.38302059e-03, 9.95616979e-01],\n",
              "       [1.04163305e-05, 9.99989584e-01],\n",
              "       [3.86276938e-07, 9.99999614e-01],\n",
              "       [9.96262220e-01, 3.73777954e-03],\n",
              "       [3.21627155e-06, 9.99996784e-01],\n",
              "       [9.33645346e-04, 9.99066355e-01],\n",
              "       [7.77145284e-05, 9.99922285e-01],\n",
              "       [2.09981289e-04, 9.99790019e-01],\n",
              "       [5.62312681e-04, 9.99437687e-01],\n",
              "       [1.93297590e-03, 9.98067024e-01],\n",
              "       [9.73995433e-01, 2.60045666e-02],\n",
              "       [2.41378784e-04, 9.99758621e-01],\n",
              "       [2.27131203e-04, 9.99772869e-01],\n",
              "       [1.90362197e-06, 9.99998096e-01],\n",
              "       [1.06284722e-04, 9.99893715e-01],\n",
              "       [2.80231645e-05, 9.99971977e-01],\n",
              "       [1.57423734e-04, 9.99842576e-01],\n",
              "       [2.57325740e-04, 9.99742674e-01],\n",
              "       [8.21335626e-04, 9.99178664e-01],\n",
              "       [2.46907993e-03, 9.97530920e-01],\n",
              "       [1.29196971e-03, 9.98708030e-01],\n",
              "       [3.64363627e-05, 9.99963564e-01],\n",
              "       [1.67181470e-04, 9.99832819e-01],\n",
              "       [7.28677094e-04, 9.99271323e-01]])"
            ]
          },
          "metadata": {
            "tags": []
          },
          "execution_count": 77
        }
      ]
    },
    {
      "cell_type": "code",
      "metadata": {
        "id": "hCVPngSoW5bG",
        "colab": {
          "base_uri": "https://localhost:8080/"
        },
        "outputId": "29b90d94-7e7d-4085-a796-2f4ac7b92564"
      },
      "source": [
        "y_test"
      ],
      "execution_count": null,
      "outputs": [
        {
          "output_type": "execute_result",
          "data": {
            "text/plain": [
              "285    1.0\n",
              "382    1.0\n",
              "187    1.0\n",
              "334    0.0\n",
              "60     1.0\n",
              "      ... \n",
              "277    1.0\n",
              "329    1.0\n",
              "56     1.0\n",
              "417    1.0\n",
              "233    1.0\n",
              "Name: Apena, Length: 100, dtype: float64"
            ]
          },
          "metadata": {
            "tags": []
          },
          "execution_count": 78
        }
      ]
    },
    {
      "cell_type": "code",
      "metadata": {
        "id": "1qwM6jOFW5bG",
        "colab": {
          "base_uri": "https://localhost:8080/"
        },
        "outputId": "955a4a4a-99f3-4620-cb32-4a7eda4b1e72"
      },
      "source": [
        "mlp.score(x_test_scaled, y_test)"
      ],
      "execution_count": null,
      "outputs": [
        {
          "output_type": "execute_result",
          "data": {
            "text/plain": [
              "1.0"
            ]
          },
          "metadata": {
            "tags": []
          },
          "execution_count": 79
        }
      ]
    },
    {
      "cell_type": "code",
      "metadata": {
        "id": "5cReU2dKW5bG"
      },
      "source": [
        "from sklearn.metrics import confusion_matrix"
      ],
      "execution_count": null,
      "outputs": []
    },
    {
      "cell_type": "markdown",
      "metadata": {
        "id": "rYS1wC3-UbXB"
      },
      "source": [
        "Confusion Metric applyed"
      ]
    },
    {
      "cell_type": "code",
      "metadata": {
        "id": "cvo3Kun6W5bG",
        "colab": {
          "base_uri": "https://localhost:8080/"
        },
        "outputId": "5f64e315-c38b-4e25-f0de-ebd99630b005"
      },
      "source": [
        "confusion_matrix(prediction_test, y_test)"
      ],
      "execution_count": null,
      "outputs": [
        {
          "output_type": "execute_result",
          "data": {
            "text/plain": [
              "array([[ 8,  0],\n",
              "       [ 0, 92]])"
            ]
          },
          "metadata": {
            "tags": []
          },
          "execution_count": 81
        }
      ]
    },
    {
      "cell_type": "markdown",
      "metadata": {
        "id": "PKfeKC7rUiz1"
      },
      "source": [
        "Finding:\n",
        "\n",
        "True positive (tp)\n",
        "\n",
        "True negative (tn)\n",
        "\n",
        "False Positive (fp)\n",
        "\n",
        "False Negative (fn)"
      ]
    },
    {
      "cell_type": "code",
      "metadata": {
        "id": "_j1yTP3IW5bH",
        "colab": {
          "base_uri": "https://localhost:8080/"
        },
        "outputId": "f2939ebc-00cd-4506-cf74-ab47db0ac159"
      },
      "source": [
        "tn, fp, fn, tp = confusion_matrix(prediction_test, y_test).ravel()\n",
        "(tn, fp, fn, tp)"
      ],
      "execution_count": null,
      "outputs": [
        {
          "output_type": "execute_result",
          "data": {
            "text/plain": [
              "(8, 0, 0, 92)"
            ]
          },
          "metadata": {
            "tags": []
          },
          "execution_count": 82
        }
      ]
    },
    {
      "cell_type": "code",
      "metadata": {
        "id": "HOc-_Wz9W5bH",
        "colab": {
          "base_uri": "https://localhost:8080/"
        },
        "outputId": "1f68affa-b012-4dff-b3b0-6156043f07b5"
      },
      "source": [
        "(tp+tn)/(tp+tn+fp+fn)"
      ],
      "execution_count": null,
      "outputs": [
        {
          "output_type": "execute_result",
          "data": {
            "text/plain": [
              "1.0"
            ]
          },
          "metadata": {
            "tags": []
          },
          "execution_count": 83
        }
      ]
    },
    {
      "cell_type": "code",
      "metadata": {
        "id": "Gjf608gHX9fl",
        "colab": {
          "base_uri": "https://localhost:8080/"
        },
        "outputId": "55b9d8a3-1b11-43a1-e3ea-2f5cb5c2063f"
      },
      "source": [
        "# Recall\n",
        "(tp)/(tp+fn)\n",
        "# Precision\n",
        "(tp)/(tp+fp)\n",
        "# TNR\n",
        "(tn)/(tn+fp)\n",
        "# F1 Score"
      ],
      "execution_count": null,
      "outputs": [
        {
          "output_type": "execute_result",
          "data": {
            "text/plain": [
              "1.0"
            ]
          },
          "metadata": {
            "tags": []
          },
          "execution_count": 84
        }
      ]
    },
    {
      "cell_type": "code",
      "metadata": {
        "colab": {
          "base_uri": "https://localhost:8080/"
        },
        "id": "OdddpPqIMBhZ",
        "outputId": "d0f7c063-10c0-419a-ea90-bd2f36c00fc3"
      },
      "source": [
        "np.unique(y_train, return_counts=True)"
      ],
      "execution_count": null,
      "outputs": [
        {
          "output_type": "execute_result",
          "data": {
            "text/plain": [
              "(array([0., 1.]), array([ 25, 293]))"
            ]
          },
          "metadata": {
            "tags": []
          },
          "execution_count": 85
        }
      ]
    },
    {
      "cell_type": "code",
      "metadata": {
        "id": "9fTOtqliOSsB"
      },
      "source": [
        "from sklearn.linear_model import LogisticRegression\n",
        "from sklearn.metrics import accuracy_score, precision_score, recall_score, f1_score"
      ],
      "execution_count": null,
      "outputs": []
    },
    {
      "cell_type": "markdown",
      "metadata": {
        "id": "hsdISeQZUkkz"
      },
      "source": [
        "Appyling the trained dataset to Logistic Regression model for accuracy, precision, recall, and f1 score\n"
      ]
    },
    {
      "cell_type": "code",
      "metadata": {
        "colab": {
          "base_uri": "https://localhost:8080/"
        },
        "id": "6ynxb3IjOB-L",
        "outputId": "c630843c-585e-4159-b0cf-6c085e966e15"
      },
      "source": [
        "model = LogisticRegression()\n",
        "model.fit(x_train, y_train)\n",
        "\n",
        "print(model.score(x_test, y_test))\n",
        "y_pred = model.predict(x_test)\n",
        "print(\"accuracy:\", accuracy_score(y_test, y_pred))\n",
        "print(\"precision:\", precision_score(y_test, y_pred))\n",
        "print(\"recall:\", recall_score(y_test, y_pred))\n",
        "print(\"f1 score:\", f1_score(y_test, y_pred))"
      ],
      "execution_count": null,
      "outputs": [
        {
          "output_type": "stream",
          "text": [
            "0.92\n",
            "accuracy: 0.92\n",
            "precision: 0.92\n",
            "recall: 1.0\n",
            "f1 score: 0.9583333333333334\n"
          ],
          "name": "stdout"
        }
      ]
    },
    {
      "cell_type": "markdown",
      "metadata": {
        "id": "CmfWrbKmUxt2"
      },
      "source": [
        "Appying trained dataset to a logistic Neuron to find mean, median, standard deviation, and precentile"
      ]
    },
    {
      "cell_type": "code",
      "metadata": {
        "id": "Xl_DfbKFMFov"
      },
      "source": [
        "class LogisticNeuron:\n",
        "    \n",
        "    def __init__(self):\n",
        "        self.w = None\n",
        "        self.b = None\n",
        "\n",
        "    def forpass(self, x):\n",
        "        z = np.sum(x * self.w) + self.b  # \n",
        "        return z\n",
        "\n",
        "    def backprop(self, x, err):\n",
        "        w_grad = x * err    # \n",
        "        b_grad = 1 * err    # \n",
        "        return w_grad, b_grad\n",
        "\n",
        "    def activation(self, z):\n",
        "        z = np.clip(z, -100, None) # \n",
        "        a = 1 / (1 + np.exp(-z))  # \n",
        "        return a\n",
        "        \n",
        "    def fit(self, x, y, epochs=100):\n",
        "        self.w = np.ones(x.shape[1])      # \n",
        "        self.b = 0                        # \n",
        "        for i in range(epochs):           # Repeat epochs\n",
        "            for x_i, y_i in zip(x, y):    # \n",
        "                z = self.forpass(x_i)     # \n",
        "                a = self.activation(z)    # \n",
        "                err = -(y_i - a)          # \n",
        "                w_grad, b_grad = self.backprop(x_i, err) # \n",
        "                self.w -= w_grad          # \n",
        "                self.b -= b_grad          # \n",
        "    \n",
        "    def predict(self, x):\n",
        "        z = [self.forpass(x_i) for x_i in x]    # \n",
        "        a = self.activation(np.array(z))        # \n",
        "        return a > 0.5"
      ],
      "execution_count": null,
      "outputs": []
    },
    {
      "cell_type": "code",
      "metadata": {
        "id": "ZT5qvv6ZMJPG"
      },
      "source": [
        "neuron = LogisticNeuron()\n",
        "neuron.fit(x_train, y_train)"
      ],
      "execution_count": null,
      "outputs": []
    },
    {
      "cell_type": "code",
      "metadata": {
        "colab": {
          "base_uri": "https://localhost:8080/"
        },
        "id": "DUj2QFCnMMQC",
        "outputId": "cdbd3ca8-1194-4242-b0d5-02859f44d95f"
      },
      "source": [
        "np.mean(neuron.predict(x_test) == y_test)"
      ],
      "execution_count": null,
      "outputs": [
        {
          "output_type": "execute_result",
          "data": {
            "text/plain": [
              "0.92"
            ]
          },
          "metadata": {
            "tags": []
          },
          "execution_count": 111
        }
      ]
    },
    {
      "cell_type": "code",
      "metadata": {
        "colab": {
          "base_uri": "https://localhost:8080/"
        },
        "id": "ctRdmXq2MZwA",
        "outputId": "471d8f27-b102-4f85-882a-8c90a4c93940"
      },
      "source": [
        "np.median(neuron.predict(x_test) == y_test)"
      ],
      "execution_count": null,
      "outputs": [
        {
          "output_type": "execute_result",
          "data": {
            "text/plain": [
              "1.0"
            ]
          },
          "metadata": {
            "tags": []
          },
          "execution_count": 92
        }
      ]
    },
    {
      "cell_type": "code",
      "metadata": {
        "colab": {
          "base_uri": "https://localhost:8080/"
        },
        "id": "KpPlxQFJMcUI",
        "outputId": "41da3b0c-6095-4c62-b3ac-2240663239f7"
      },
      "source": [
        "np.percentile(neuron.predict(x_test) == y_test, 25)"
      ],
      "execution_count": null,
      "outputs": [
        {
          "output_type": "execute_result",
          "data": {
            "text/plain": [
              "1.0"
            ]
          },
          "metadata": {
            "tags": []
          },
          "execution_count": 98
        }
      ]
    },
    {
      "cell_type": "code",
      "metadata": {
        "colab": {
          "base_uri": "https://localhost:8080/"
        },
        "id": "XI2QUPp4M3Dz",
        "outputId": "bd5ffbb0-dde0-41d0-b4c2-214ba92f33d1"
      },
      "source": [
        "np.percentile(neuron.predict(x_test) == y_test, 50)"
      ],
      "execution_count": null,
      "outputs": [
        {
          "output_type": "execute_result",
          "data": {
            "text/plain": [
              "1.0"
            ]
          },
          "metadata": {
            "tags": []
          },
          "execution_count": 99
        }
      ]
    },
    {
      "cell_type": "code",
      "metadata": {
        "colab": {
          "base_uri": "https://localhost:8080/"
        },
        "id": "v3cPtak-M3UF",
        "outputId": "0180c13c-9a86-4ede-8901-d7eff5c8173b"
      },
      "source": [
        "np.percentile(neuron.predict(x_test) == y_test, 75)"
      ],
      "execution_count": null,
      "outputs": [
        {
          "output_type": "execute_result",
          "data": {
            "text/plain": [
              "1.0"
            ]
          },
          "metadata": {
            "tags": []
          },
          "execution_count": 100
        }
      ]
    },
    {
      "cell_type": "code",
      "metadata": {
        "colab": {
          "base_uri": "https://localhost:8080/"
        },
        "id": "17CB-zr1M8tT",
        "outputId": "848ea0ec-e7b8-4b75-ef69-2f2e1d8a2840"
      },
      "source": [
        "np.std(neuron.predict(x_test) == y_test)"
      ],
      "execution_count": null,
      "outputs": [
        {
          "output_type": "execute_result",
          "data": {
            "text/plain": [
              "0.2712931993250107"
            ]
          },
          "metadata": {
            "tags": []
          },
          "execution_count": 101
        }
      ]
    },
    {
      "cell_type": "code",
      "metadata": {
        "colab": {
          "base_uri": "https://localhost:8080/"
        },
        "id": "kCp8yT1kNCE3",
        "outputId": "ce1ed843-8603-4e96-9780-5f2384477551"
      },
      "source": [
        "np.var(neuron.predict(x_test) == y_test)"
      ],
      "execution_count": null,
      "outputs": [
        {
          "output_type": "execute_result",
          "data": {
            "text/plain": [
              "0.0736"
            ]
          },
          "metadata": {
            "tags": []
          },
          "execution_count": 102
        }
      ]
    },
    {
      "cell_type": "code",
      "metadata": {
        "colab": {
          "base_uri": "https://localhost:8080/"
        },
        "id": "wsqoh5gZNe2M",
        "outputId": "1e9e608a-26e5-4e48-a45c-65fd77284e98"
      },
      "source": [
        "neuron.predict((x[0]))"
      ],
      "execution_count": null,
      "outputs": [
        {
          "output_type": "execute_result",
          "data": {
            "text/plain": [
              "array([False, False, False, False, False, False, False, False, False,\n",
              "       False, False, False, False, False,  True,  True,  True,  True,\n",
              "        True,  True, False, False, False, False, False, False, False,\n",
              "       False, False, False])"
            ]
          },
          "metadata": {
            "tags": []
          },
          "execution_count": 103
        }
      ]
    },
    {
      "cell_type": "code",
      "metadata": {
        "id": "s1M9Vl6lMQEh"
      },
      "source": [
        "from sklearn.linear_model import SGDClassifier"
      ],
      "execution_count": null,
      "outputs": []
    },
    {
      "cell_type": "markdown",
      "metadata": {
        "id": "v_t9rWOfVEhD"
      },
      "source": [
        "SGD classifier"
      ]
    },
    {
      "cell_type": "code",
      "metadata": {
        "colab": {
          "base_uri": "https://localhost:8080/"
        },
        "id": "wtJO_uINMRwr",
        "outputId": "5c4ae999-7a7d-492d-8450-7b0767b8102a"
      },
      "source": [
        "sgd = SGDClassifier(loss='log', max_iter=100, tol=1e-3, random_state=42)\n",
        "sgd.fit(x_train, y_train)\n",
        "sgd.score(x_test, y_test)"
      ],
      "execution_count": null,
      "outputs": [
        {
          "output_type": "execute_result",
          "data": {
            "text/plain": [
              "0.92"
            ]
          },
          "metadata": {
            "tags": []
          },
          "execution_count": 90
        }
      ]
    },
    {
      "cell_type": "code",
      "metadata": {
        "colab": {
          "base_uri": "https://localhost:8080/"
        },
        "id": "uAblJvPMMTxD",
        "outputId": "08ab8c16-d8bb-4968-a19f-16a6f757931b"
      },
      "source": [
        "sgd.predict(x_test[0:10])"
      ],
      "execution_count": null,
      "outputs": [
        {
          "output_type": "execute_result",
          "data": {
            "text/plain": [
              "array([1., 1., 1., 1., 1., 1., 1., 1., 1., 1.])"
            ]
          },
          "metadata": {
            "tags": []
          },
          "execution_count": 91
        }
      ]
    },
    {
      "cell_type": "code",
      "metadata": {
        "id": "LNXTVpfLPHx3"
      },
      "source": [
        "from sklearn.model_selection import cross_val_predict\n",
        "from sklearn import linear_model\n",
        "import matplotlib.pyplot as plt\n",
        "lr = linear_model.LinearRegression()"
      ],
      "execution_count": null,
      "outputs": []
    },
    {
      "cell_type": "markdown",
      "metadata": {
        "id": "6zNw3lkXVJJs"
      },
      "source": [
        "Again implementing cross validation here for a reference to the model as it could be useful in the future. Our data target is not meant for this."
      ]
    },
    {
      "cell_type": "code",
      "metadata": {
        "colab": {
          "base_uri": "https://localhost:8080/",
          "height": 279
        },
        "id": "mZPTpq1UPBqE",
        "outputId": "10be6ef0-c51a-4639-8f4b-cfb466d4a11d"
      },
      "source": [
        "predicted = cross_val_predict(lr, x, y, cv=10)\n",
        "\n",
        "fig, ax = plt.subplots()\n",
        "ax.scatter(y, predicted, edgecolors=(0, 0, 0))\n",
        "ax.plot([y.min(), y.max()], [y.min(), y.max()], 'k--', lw=4)\n",
        "ax.set_xlabel('Measured')\n",
        "ax.set_ylabel('Predicted')\n",
        "plt.show()"
      ],
      "execution_count": null,
      "outputs": [
        {
          "output_type": "display_data",
          "data": {
            "image/png": "[encoded data removed]",
            "text/plain": [
              "<Figure size 432x288 with 1 Axes>"
            ]
          },
          "metadata": {
            "tags": [],
            "needs_background": "light"
          }
        }
      ]
    },
    {
      "cell_type": "markdown",
      "metadata": {
        "id": "bV8tGZCSVU5U"
      },
      "source": [
        "Discussion\n",
        "\n",
        "\n",
        "-- I was able to apply a regression model and a neuron model that allowed me to complete the calculations of recall, specificity, precision and accuracy. I am contacting you via email for help in hypertuning and synchronization. I attempt feature extraction through sliding window below and could use help understanding this further.  \n",
        "\n",
        "-- My project shows implementation of calculating necessary informations, however without hyperparameter tuning and synchronization, my numbers come back similar to those in class. "
      ]
    },
    {
      "cell_type": "code",
      "metadata": {
        "id": "6qr-NAVWXaA5"
      },
      "source": [
        "from scipy.misc import electrocardiogram\n",
        "from scipy.signal import find_peaks\n",
        "from scipy.stats import kurtosis, skew\n",
        "\n",
        "x = dft\n",
        "\n",
        "x= 400 \n",
        "k=0\n",
        "kk =0\n",
        "n = 10\n",
        "\n",
        "for i in range(0, n - k + 1, step):\n",
        "  window = x[i:i + k]\n",
        "  peaks, _ = find_peaks(window, distance=150)\n",
        "  ecg_peaks = window[peaks]\n",
        "\n",
        "\n",
        "  if ecg_peaks.size == 0:\n",
        "    kk += 1\n",
        "    continue\n",
        "\n",
        "  ecg_sample_time = peaks"
      ],
      "execution_count": null,
      "outputs": []
    },
    {
      "cell_type": "code",
      "metadata": {
        "id": "mkNe_JheXemZ"
      },
      "source": [
        "\n",
        "plt.plot(x)\n",
        "plt.plot(peaks, x[peaks], \"x\")\n",
        "plt.show()"
      ],
      "execution_count": null,
      "outputs": []
    },
    {
      "cell_type": "code",
      "metadata": {
        "id": "aULudMZaXgWs"
      },
      "source": [
        "ecg_peaks"
      ],
      "execution_count": null,
      "outputs": []
    },
    {
      "cell_type": "code",
      "metadata": {
        "id": "G3PzliGSXi1u"
      },
      "source": [
        "ecg_sample_time"
      ],
      "execution_count": null,
      "outputs": []
    },
    {
      "cell_type": "code",
      "metadata": {
        "id": "5yXS6_IeXkZq"
      },
      "source": [
        "fs = 360\n",
        "ecg_sample_time = peaks / fs\n",
        "ecg_sample_time"
      ],
      "execution_count": null,
      "outputs": []
    },
    {
      "cell_type": "code",
      "metadata": {
        "id": "hAsozlaWXnH3"
      },
      "source": [
        "fs = 360\n",
        "#np.diff(peaks)\n",
        "ecg_sample_time = peaks / fs\n",
        "#ecg_sample_time\n",
        "ecg_sample_time_interval = [ecg_sample_time[i + 1] - ecg_sample_time[i] for i in range(len(ecg_sample_time)-1)] \n",
        "#ecg_sample_time\n",
        "ecg_sample_time_interval"
      ],
      "execution_count": null,
      "outputs": []
    },
    {
      "cell_type": "markdown",
      "metadata": {
        "id": "1-n0Z2A1Xr89"
      },
      "source": [
        "Find mean of ECG interval"
      ]
    },
    {
      "cell_type": "code",
      "metadata": {
        "id": "UmLa87EaXu8M"
      },
      "source": [
        "np.mean(ecg_sample_time_interval)"
      ],
      "execution_count": null,
      "outputs": []
    },
    {
      "cell_type": "markdown",
      "metadata": {
        "id": "K4rmr2lBX9rN"
      },
      "source": [
        "Find median of ECG interval"
      ]
    },
    {
      "cell_type": "code",
      "metadata": {
        "id": "iFSOI2DqYLMu"
      },
      "source": [
        "np.median(ecg_sample_time_interval)"
      ],
      "execution_count": null,
      "outputs": []
    },
    {
      "cell_type": "markdown",
      "metadata": {
        "id": "6hYtEOxwX6xn"
      },
      "source": [
        "Find standard deviation of ECG interval"
      ]
    },
    {
      "cell_type": "code",
      "metadata": {
        "id": "Fd67ObmGX6q9"
      },
      "source": [
        "np.std(ecg_sample_time_interval)"
      ],
      "execution_count": null,
      "outputs": []
    },
    {
      "cell_type": "markdown",
      "metadata": {
        "id": "swQ4Z2AMX6bj"
      },
      "source": [
        "Find Kurtosis of ECG interval"
      ]
    },
    {
      "cell_type": "code",
      "metadata": {
        "id": "exjLD1bZX6UC"
      },
      "source": [
        "kurtosis(ecg_sample_time_interval, fisher=True)"
      ],
      "execution_count": null,
      "outputs": []
    },
    {
      "cell_type": "markdown",
      "metadata": {
        "id": "EPzVc087X6D_"
      },
      "source": [
        "Find Scew of ECG interval"
      ]
    },
    {
      "cell_type": "code",
      "metadata": {
        "id": "93ykfyiTX58h"
      },
      "source": [
        "skew(ecg_sample_time_interval)"
      ],
      "execution_count": null,
      "outputs": []
    },
    {
      "cell_type": "markdown",
      "metadata": {
        "id": "QmST-Eh0X5mM"
      },
      "source": [
        "Show peaks"
      ]
    },
    {
      "cell_type": "code",
      "metadata": {
        "id": "1lhKUeVuX5fB"
      },
      "source": [
        "x[peaks]"
      ],
      "execution_count": null,
      "outputs": []
    }
  ]
}